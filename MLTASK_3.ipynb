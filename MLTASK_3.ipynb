{
 "cells": [
  {
   "cell_type": "code",
   "execution_count": 7,
   "id": "f76cce07",
   "metadata": {},
   "outputs": [],
   "source": [
    "import os\n",
    "import numpy as np\n",
    "from sklearn.svm import SVC\n",
    "from sklearn.metrics import classification_report, confusion_matrix\n",
    "import matplotlib.pyplot as plt\n",
    "from tqdm import tqdm\n",
    "import joblib\n",
    "from sklearn.model_selection import GridSearchCV\n",
    "import cv2\n",
    "import seaborn as sns\n",
    "import time\n",
    "from sklearn.decomposition import PCA\n",
    "from sklearn.pipeline import Pipeline\n",
    "from sklearn.model_selection import train_test_split\n",
    "\n",
    "# Create necessary folders\n",
    "folder_path = \"D:\\\\csv file\"\n",
    "os.makedirs(folder_path, exist_ok=True)\n",
    "\n",
    "# Define paths\n",
    "confusion_image_path = os.path.join(folder_path, 'confusion_matrix.png')\n",
    "classification_file_path = os.path.join(folder_path, 'classification_report.txt')\n",
    "model_file_path = os.path.join(folder_path, \"svm_model.pkl\")\n",
    "\n",
    "# Path to dataset\n",
    "dataset_dir = \"D:\\\\new dataset\"\n",
    "train_dir = os.path.join(dataset_dir, \"train\")\n",
    "test_dir = os.path.join(dataset_dir, \"test1\")\n"
   ]
  },
  {
   "cell_type": "code",
   "execution_count": 9,
   "id": "fc025ed5",
   "metadata": {},
   "outputs": [
    {
     "name": "stderr",
     "output_type": "stream",
     "text": [
      "Processing Train Images: 100%|█████████████████████████████████████████████████████| 2000/2000 [00:32<00:00, 62.26it/s]\n"
     ]
    }
   ],
   "source": [
    "# Load data, preprocess, and label\n",
    "# dog = 1, cat = 0\n",
    "train_images = os.listdir(train_dir)\n",
    "features = []\n",
    "labels = []\n",
    "image_size = (50, 50)\n",
    "\n",
    "# Process train images\n",
    "for image in tqdm(train_images, desc=\"Processing Train Images\"):\n",
    "    if image.startswith('cat'):\n",
    "        label = 0\n",
    "    else:\n",
    "        label = 1\n",
    "    image_path = os.path.join(train_dir, image)\n",
    "    image_read = cv2.imread(image_path)\n",
    "    if image_read is not None:\n",
    "        image_resized = cv2.resize(image_read, image_size)\n",
    "        image_normalized = image_resized / 255.0\n",
    "        image_flatten = image_normalized.flatten()\n",
    "        features.append(image_flatten)\n",
    "        labels.append(label)\n",
    "\n",
    "# Convert lists to numpy arrays\n",
    "features = np.asarray(features)\n",
    "labels = np.asarray(labels)\n"
   ]
  },
  {
   "cell_type": "code",
   "execution_count": 10,
   "id": "997bf3d6",
   "metadata": {},
   "outputs": [],
   "source": [
    "# Train test split\n",
    "X_train, X_test, y_train, y_test = train_test_split(features, labels, test_size=0.2, shuffle=True, random_state=42)\n",
    "\n",
    "# PCA, SVM, and Pipeline\n",
    "n_components = 0.8\n",
    "pca = PCA(n_components=n_components, random_state=42)\n",
    "svm = SVC()\n",
    "pipeline = Pipeline([\n",
    "    ('pca', pca),\n",
    "    ('svm', svm)\n",
    "])\n",
    "\n",
    "param_grid = {\n",
    "    'pca__n_components': [2, 1, 0.9, 0.8],\n",
    "    'svm__kernel': ['linear', 'rbf', 'poly', 'sigmoid'],\n",
    "}\n"
   ]
  },
  {
   "cell_type": "code",
   "execution_count": 11,
   "id": "31f5a17a",
   "metadata": {},
   "outputs": [
    {
     "name": "stdout",
     "output_type": "stream",
     "text": [
      "Fitting 3 folds for each of 16 candidates, totalling 48 fits\n",
      "[CV 1/3] END pca__n_components=2, svm__kernel=linear;, score=0.507 total time=   1.1s\n",
      "[CV 2/3] END pca__n_components=2, svm__kernel=linear;, score=0.525 total time=   0.9s\n",
      "[CV 3/3] END pca__n_components=2, svm__kernel=linear;, score=0.522 total time=   1.0s\n",
      "[CV 1/3] END pca__n_components=2, svm__kernel=rbf;, score=0.560 total time=   0.8s\n",
      "[CV 2/3] END pca__n_components=2, svm__kernel=rbf;, score=0.540 total time=   0.9s\n",
      "[CV 3/3] END pca__n_components=2, svm__kernel=rbf;, score=0.576 total time=   1.0s\n",
      "[CV 1/3] END pca__n_components=2, svm__kernel=poly;, score=0.496 total time=   0.6s\n",
      "[CV 2/3] END pca__n_components=2, svm__kernel=poly;, score=0.535 total time=   0.6s\n",
      "[CV 3/3] END pca__n_components=2, svm__kernel=poly;, score=0.495 total time=   0.6s\n",
      "[CV 1/3] END pca__n_components=2, svm__kernel=sigmoid;, score=0.513 total time=   0.5s\n",
      "[CV 2/3] END pca__n_components=2, svm__kernel=sigmoid;, score=0.486 total time=   0.5s\n",
      "[CV 3/3] END pca__n_components=2, svm__kernel=sigmoid;, score=0.480 total time=   0.7s\n",
      "[CV 1/3] END pca__n_components=1, svm__kernel=linear;, score=0.532 total time=   0.8s\n",
      "[CV 2/3] END pca__n_components=1, svm__kernel=linear;, score=0.520 total time=   0.7s\n",
      "[CV 3/3] END pca__n_components=1, svm__kernel=linear;, score=0.505 total time=   0.8s\n",
      "[CV 1/3] END pca__n_components=1, svm__kernel=rbf;, score=0.511 total time=   0.9s\n",
      "[CV 2/3] END pca__n_components=1, svm__kernel=rbf;, score=0.531 total time=   1.0s\n",
      "[CV 3/3] END pca__n_components=1, svm__kernel=rbf;, score=0.510 total time=   0.7s\n",
      "[CV 1/3] END pca__n_components=1, svm__kernel=poly;, score=0.493 total time=   0.6s\n",
      "[CV 2/3] END pca__n_components=1, svm__kernel=poly;, score=0.501 total time=   0.6s\n",
      "[CV 3/3] END pca__n_components=1, svm__kernel=poly;, score=0.505 total time=   0.6s\n",
      "[CV 1/3] END pca__n_components=1, svm__kernel=sigmoid;, score=0.472 total time=   0.6s\n",
      "[CV 2/3] END pca__n_components=1, svm__kernel=sigmoid;, score=0.533 total time=   0.6s\n",
      "[CV 3/3] END pca__n_components=1, svm__kernel=sigmoid;, score=0.482 total time=   0.5s\n",
      "[CV 1/3] END pca__n_components=0.9, svm__kernel=linear;, score=0.562 total time=  22.6s\n",
      "[CV 2/3] END pca__n_components=0.9, svm__kernel=linear;, score=0.568 total time=  23.2s\n",
      "[CV 3/3] END pca__n_components=0.9, svm__kernel=linear;, score=0.597 total time=  18.7s\n",
      "[CV 1/3] END pca__n_components=0.9, svm__kernel=rbf;, score=0.622 total time=  11.1s\n",
      "[CV 2/3] END pca__n_components=0.9, svm__kernel=rbf;, score=0.608 total time=  11.1s\n",
      "[CV 3/3] END pca__n_components=0.9, svm__kernel=rbf;, score=0.638 total time=  11.0s\n",
      "[CV 1/3] END pca__n_components=0.9, svm__kernel=poly;, score=0.569 total time=  10.7s\n",
      "[CV 2/3] END pca__n_components=0.9, svm__kernel=poly;, score=0.538 total time=  10.8s\n",
      "[CV 3/3] END pca__n_components=0.9, svm__kernel=poly;, score=0.567 total time=  10.9s\n",
      "[CV 1/3] END pca__n_components=0.9, svm__kernel=sigmoid;, score=0.536 total time=  10.9s\n",
      "[CV 2/3] END pca__n_components=0.9, svm__kernel=sigmoid;, score=0.546 total time=  11.0s\n",
      "[CV 3/3] END pca__n_components=0.9, svm__kernel=sigmoid;, score=0.567 total time=  10.9s\n",
      "[CV 1/3] END pca__n_components=0.8, svm__kernel=linear;, score=0.562 total time=  13.8s\n",
      "[CV 2/3] END pca__n_components=0.8, svm__kernel=linear;, score=0.546 total time=  14.5s\n",
      "[CV 3/3] END pca__n_components=0.8, svm__kernel=linear;, score=0.593 total time=  16.3s\n",
      "[CV 1/3] END pca__n_components=0.8, svm__kernel=rbf;, score=0.612 total time=  10.9s\n",
      "[CV 2/3] END pca__n_components=0.8, svm__kernel=rbf;, score=0.597 total time=  10.7s\n",
      "[CV 3/3] END pca__n_components=0.8, svm__kernel=rbf;, score=0.629 total time=  11.4s\n",
      "[CV 1/3] END pca__n_components=0.8, svm__kernel=poly;, score=0.569 total time=  13.0s\n",
      "[CV 2/3] END pca__n_components=0.8, svm__kernel=poly;, score=0.540 total time=  10.7s\n",
      "[CV 3/3] END pca__n_components=0.8, svm__kernel=poly;, score=0.572 total time=  10.7s\n",
      "[CV 1/3] END pca__n_components=0.8, svm__kernel=sigmoid;, score=0.541 total time=  10.7s\n",
      "[CV 2/3] END pca__n_components=0.8, svm__kernel=sigmoid;, score=0.535 total time=  11.0s\n",
      "[CV 3/3] END pca__n_components=0.8, svm__kernel=sigmoid;, score=0.570 total time=  10.7s\n",
      "Best Parameters:  {'pca__n_components': 0.9, 'svm__kernel': 'rbf'}\n",
      "Best Score:  0.6225004860247393\n"
     ]
    }
   ],
   "source": [
    "# Calculate training time\n",
    "start_time = time.time()\n",
    "grid_search = GridSearchCV(pipeline, param_grid, cv=3, verbose=4)\n",
    "grid_search.fit(X_train, y_train)\n",
    "end_time = time.time()\n",
    "\n",
    "# Obtain the best model and the best parameters\n",
    "best_pipeline = grid_search.best_estimator_\n",
    "best_params = grid_search.best_params_\n",
    "best_score = grid_search.best_score_\n",
    "\n",
    "print(\"Best Parameters: \", best_params)\n",
    "print(\"Best Score: \", best_score)\n"
   ]
  },
  {
   "cell_type": "code",
   "execution_count": 13,
   "id": "df0196c2",
   "metadata": {},
   "outputs": [
    {
     "name": "stdout",
     "output_type": "stream",
     "text": [
      "Accuracy: 0.61\n",
      "Classification Report:\n",
      "               precision    recall  f1-score   support\n",
      "\n",
      "         Cat       0.61      0.60      0.61       199\n",
      "         Dog       0.61      0.62      0.61       201\n",
      "\n",
      "    accuracy                           0.61       400\n",
      "   macro avg       0.61      0.61      0.61       400\n",
      "weighted avg       0.61      0.61      0.61       400\n",
      "\n"
     ]
    },
    {
     "data": {
      "image/png": "[encoded data removed]",
      "text/plain": [
       "<Figure size 640x480 with 2 Axes>"
      ]
     },
     "metadata": {},
     "output_type": "display_data"
    }
   ],
   "source": [
    "# Evaluation on test dataset\n",
    "accuracy = best_pipeline.score(X_test, y_test)\n",
    "print(\"Accuracy:\", accuracy)\n",
    "y_pred = best_pipeline.predict(X_test)\n",
    "\n",
    "# Classification report\n",
    "target_names = ['Cat', 'Dog']\n",
    "classification_rep = classification_report(y_test, y_pred, target_names=target_names)\n",
    "print(\"Classification Report:\\n\", classification_rep)\n",
    "\n",
    "# Save the classification report\n",
    "with open(classification_file_path, 'w') as file:\n",
    "    file.write(classification_rep)\n",
    "\n",
    "# Confusion matrix\n",
    "cm = confusion_matrix(y_test, y_pred)\n",
    "sns.heatmap(cm, annot=True, fmt=\"d\", cmap=\"Blues\")\n",
    "plt.xlabel('Predicted labels')\n",
    "plt.ylabel('True labels')\n",
    "plt.savefig(confusion_image_path)\n",
    "plt.show()\n"
   ]
  },
  {
   "cell_type": "code",
   "execution_count": null,
   "id": "976a43ca",
   "metadata": {},
   "outputs": [],
   "source": []
  }
 ],
 "metadata": {
  "kernelspec": {
   "display_name": "Python 3 (ipykernel)",
   "language": "python",
   "name": "python3"
  },
  "language_info": {
   "codemirror_mode": {
    "name": "ipython",
    "version": 3
   },
   "file_extension": ".py",
   "mimetype": "text/x-python",
   "name": "python",
   "nbconvert_exporter": "python",
   "pygments_lexer": "ipython3",
   "version": "3.11.5"
  }
 },
 "nbformat": 4,
 "nbformat_minor": 5
}
